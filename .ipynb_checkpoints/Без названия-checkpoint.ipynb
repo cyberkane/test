{
 "cells": [
  {
   "cell_type": "code",
   "execution_count": 1,
   "id": "d77a46b2-2629-4e9f-bca3-e061e3edfece",
   "metadata": {},
   "outputs": [],
   "source": [
    "import pandas as pd\n",
    "import tensorflow as tf\n",
    "import numpy as np\n",
    "import keras as k\n",
    "import matplotlib.pyplot as plt"
   ]
  },
  {
   "cell_type": "code",
   "execution_count": 2,
   "id": "91c403b6-0ca2-4449-8204-563ab1ca8ada",
   "metadata": {},
   "outputs": [],
   "source": [
    "file_name = 'taxi_formated.xlsx'"
   ]
  },
  {
   "cell_type": "code",
   "execution_count": 3,
   "id": "7f65bda6-892a-478f-b459-62915c62142d",
   "metadata": {},
   "outputs": [],
   "source": [
    "def testing_data():\n",
    "    data = pd.read_excel(file_name)\n",
    "    test_data = data.sample(frac = 0.3).reset_index(drop = True) # 30% исходных данных для подготовки тестового набора\n",
    "    data = pd.concat([data, test_data], ignore_index=True).drop_duplicates(keep = False).reset_index(drop = True) # оставшиеся данные идут для подготовки данных для обучения\n",
    "    return(data, test_data)"
   ]
  },
  {
   "cell_type": "code",
   "execution_count": 4,
   "id": "f2cf39ea-1abe-43f4-8815-e23a43deeeb8",
   "metadata": {},
   "outputs": [],
   "source": [
    "#запись наборов данных в отдельные файлы\n",
    "#learn_data, test_data = testing_data()\n",
    "#learn_data.to_excel('learn_data.xlsx')\n",
    "#test_data.to_excel('test_data.xlsx')"
   ]
  },
  {
   "cell_type": "code",
   "execution_count": 5,
   "id": "9c18899a-225b-4d56-af80-1aa080d374f7",
   "metadata": {},
   "outputs": [],
   "source": [
    "data_for_learning = 'learn_data.xlsx' #подготовленный файл learn_data.xlsx через prepairing_data.py\n",
    "data_for_testing = 'test_data.xlsx'   #подготовленный файл test_data.xlsx через prepairing_data.py"
   ]
  },
  {
   "cell_type": "code",
   "execution_count": 6,
   "id": "e8cae12f-c0c9-4de7-8e1d-457e3ad02024",
   "metadata": {},
   "outputs": [],
   "source": [
    "learn_data = pd.read_excel(data_for_learning) #обучающий датафрейм\n",
    "test_data = pd.read_excel(data_for_testing) #тестовый датафрейм"
   ]
  },
  {
   "cell_type": "code",
   "execution_count": 7,
   "id": "19efdb6a-a73b-4c66-9cb3-1dcec3e7af2e",
   "metadata": {},
   "outputs": [
    {
     "name": "stdout",
     "output_type": "stream",
     "text": [
      "       Unnamed: 0  offer_gk  weekday_key  hour_key  driver_gk  order_gk  \\\n",
      "0               0    759733            5        14       6080    358774   \n",
      "1               1    416977            6        14       6080    866260   \n",
      "2               2    889660            2         6       6080    163522   \n",
      "3               3   1120055            4        16       6080    506710   \n",
      "4               4   1058203            6        15       6080    360328   \n",
      "...           ...       ...          ...       ...        ...       ...   \n",
      "69995       69995   1021230            1         1       2442    351741   \n",
      "69996       69996    658641            5        21       2442     90022   \n",
      "69997       69997    726210            0         2       2442     27360   \n",
      "69998       69998    672584            6        21       2442    140623   \n",
      "69999       69999    542637            0        23       2442    140050   \n",
      "\n",
      "       driver_latitude  driver_longitude  origin_order_latitude  \\\n",
      "0            55.805342         37.515023              55.819329   \n",
      "1            55.813978         37.347688              55.814827   \n",
      "2            55.745922         37.421748              55.743469   \n",
      "3            55.803578         37.521602              55.812559   \n",
      "4            55.818963         37.361033              55.814827   \n",
      "...                ...               ...                    ...   \n",
      "69995        55.961301         37.413497              55.966694   \n",
      "69996        55.961321         37.413560              55.964892   \n",
      "69997        55.961246         37.413497              55.966694   \n",
      "69998        55.961354         37.413864              55.964892   \n",
      "69999        55.961364         37.413864              55.962322   \n",
      "\n",
      "       origin_order_longitude  distance_km  duration_min offer_class_group  \\\n",
      "0                   37.466398       18.802        25.217          Standard   \n",
      "1                   37.354074        6.747         9.800           Economy   \n",
      "2                   37.431130       -1.000        -1.000           Economy   \n",
      "3                   37.527407       12.383        19.250           Economy   \n",
      "4                   37.354074        6.747         9.800           Economy   \n",
      "...                       ...          ...           ...               ...   \n",
      "69995               37.415754        0.000         0.000          Standard   \n",
      "69996               37.413543       32.721        39.017          Standard   \n",
      "69997               37.415754       17.378        29.817           Economy   \n",
      "69998               37.413543       50.029        51.100           Economy   \n",
      "69999               37.407117       54.811        56.183          Standard   \n",
      "\n",
      "      ride_type_desc  driver_response  \n",
      "0            private                1  \n",
      "1            private                0  \n",
      "2            private                1  \n",
      "3            private                1  \n",
      "4            private                0  \n",
      "...              ...              ...  \n",
      "69995        private                0  \n",
      "69996        private                0  \n",
      "69997        private                0  \n",
      "69998        private                0  \n",
      "69999        private                0  \n",
      "\n",
      "[70000 rows x 15 columns]\n"
     ]
    }
   ],
   "source": [
    "data_frame = learn_data\n",
    "data_frame_test = test_data\n",
    "print(data_frame)"
   ]
  },
  {
   "cell_type": "code",
   "execution_count": 8,
   "id": "9685c8b5-7f39-4409-860e-000b1a6fbffc",
   "metadata": {},
   "outputs": [
    {
     "name": "stdout",
     "output_type": "stream",
     "text": [
      "31.66095531300284\n"
     ]
    }
   ],
   "source": [
    "duration_rms = np.sqrt((np.sum(np.array(data_frame[['duration_min']][(data_frame['duration_min'] > 0)])) / len(np.array(data_frame[['duration_min']][(data_frame['duration_min'] > 0)]))) ** 2 )\n",
    "print(duration_rms)"
   ]
  },
  {
   "cell_type": "code",
   "execution_count": 9,
   "id": "8da47eee-ecea-48f2-a439-67f44e801573",
   "metadata": {},
   "outputs": [],
   "source": [
    "data_frame1 = data_frame[['weekday_key', 'hour_key', 'duration_min']][(data_frame['duration_min'] > 0) & (data_frame['duration_min'] < duration_rms * 4)]\n",
    "\n",
    "row1 = np.array(data_frame1['hour_key'], dtype = float)\n",
    "row2 = np.array(data_frame1['duration_min'], dtype = float)\n",
    "row3 = data_frame1.sort_values(['hour_key'])\n",
    "row3 = row3['hour_key'].unique()\n",
    "row4 = []\n",
    "\n",
    "for i in range (len(row3)):\n",
    "    sqnum = np.sqrt(np.sum(data_frame1['duration_min'][(data_frame1['hour_key'] == i)]) / len(row3))\n",
    "    row4.append(sqnum)\n",
    "    \n",
    "row4 = np.array(row4, dtype = float) #список среднеквадратичных значений проделжительности поездки от времени суток"
   ]
  },
  {
   "cell_type": "code",
   "execution_count": 10,
   "id": "bbb23bf9-4ca1-43dd-b6ce-603c47f2c177",
   "metadata": {},
   "outputs": [],
   "source": [
    "data_frame2 = data_frame[['weekday_key', 'hour_key', 'duration_min']][(data_frame['duration_min'] > 0)]\n",
    "duration_sigma_sqr = data_frame2[['duration_min']][(data_frame2['duration_min'] > 0)]\n",
    "duration_sigma_sqr = np.sqrt(((duration_sigma_sqr['duration_min'] - duration_rms) ** 2) / (len(duration_sigma_sqr) - 1))\n",
    "row_duration_sigma_sqr = np.array(duration_sigma_sqr, dtype = float)"
   ]
  },
  {
   "cell_type": "code",
   "execution_count": 11,
   "id": "e0682c48-d1da-4f89-9f20-543378e7d075",
   "metadata": {},
   "outputs": [],
   "source": [
    "row5 = data_frame2.sort_values(['hour_key'])\n",
    "row5 = np.array(data_frame2['hour_key'], dtype = float)\n",
    "row5 = data_frame2.sort_values(['hour_key'])\n",
    "row5 = row5['hour_key'].unique()\n",
    "row6 = []\n",
    "\n",
    "for i in range (len(row5)):\n",
    "    sqnum = np.sqrt(np.sum(row_duration_sigma_sqr) / len(row5))\n",
    "    row6.append(sqnum)\n",
    "\n",
    "row6 = np.array(row4, dtype = float) #список статистической дисперсии продолжительности поездки от времени суток"
   ]
  },
  {
   "cell_type": "code",
   "execution_count": 12,
   "id": "3b820d7d-ec0c-4636-aca3-a82328ae605b",
   "metadata": {},
   "outputs": [
    {
     "data": {
      "image/png": "[encoded data removed]",
      "text/plain": [
       "<Figure size 432x288 with 1 Axes>"
      ]
     },
     "metadata": {
      "needs_background": "light"
     },
     "output_type": "display_data"
    }
   ],
   "source": [
    "plt.plot (row5, row6 , '.', color = 'blue')\n",
    "plt.scatter(row1, row2)\n",
    "plt.plot (row3, row4 , '--', color = 'red')\n",
    "plt.show()"
   ]
  },
  {
   "cell_type": "code",
   "execution_count": 512,
   "id": "5cabeba0-4804-40e5-824a-fc818ca19d7e",
   "metadata": {},
   "outputs": [],
   "source": [
    "input_data = np.array(data_frame['duration_min'][(data_frame['duration_min'] > 0) & (data_frame['duration_min'] > duration_rms / 3) & (data_frame['duration_min'] < duration_rms * 3)])\n",
    "output_data = np.array(data_frame['hour_key'][(data_frame['duration_min'] > 0) & (data_frame['duration_min'] > duration_rms / 3) & (data_frame['duration_min'] < duration_rms * 3)])"
   ]
  },
  {
   "cell_type": "code",
   "execution_count": 513,
   "id": "b58d33c3-c7a7-4ab5-bce5-63e24bc72b0c",
   "metadata": {},
   "outputs": [
    {
     "name": "stdout",
     "output_type": "stream",
     "text": [
      "[25.217 19.25  15.433 ... 29.817 51.1   56.183]\n",
      "[14 16 20 ...  2 21 23]\n",
      "45760\n",
      "45760\n"
     ]
    }
   ],
   "source": [
    "print(input_data)\n",
    "print(output_data)\n",
    "print(len(input_data))\n",
    "print(len(output_data))"
   ]
  },
  {
   "cell_type": "code",
   "execution_count": 514,
   "id": "cc03914f-6878-444e-bad2-b29559fe7124",
   "metadata": {},
   "outputs": [
    {
     "data": {
      "image/png": "[encoded data removed]",
      "text/plain": [
       "<Figure size 432x288 with 1 Axes>"
      ]
     },
     "metadata": {
      "needs_background": "light"
     },
     "output_type": "display_data"
    }
   ],
   "source": [
    "plt.scatter(output_data, input_data)\n",
    "plt.show()"
   ]
  },
  {
   "cell_type": "code",
   "execution_count": 696,
   "id": "b36d5d15-8fb8-45bb-917f-37f105225b24",
   "metadata": {},
   "outputs": [],
   "source": [
    "model = k.Sequential()\n",
    "model.add(k.layers.Dense(units = 100, activation = 'relu'))\n",
    "model.add(k.layers.Dense(units = 30, activation = 'relu'))\n",
    "model.add(k.layers.Dense(units = 1, activation = 'relu'))"
   ]
  },
  {
   "cell_type": "code",
   "execution_count": 702,
   "id": "d1171f0b-1967-42ff-b73d-d6d3bf0ebac9",
   "metadata": {},
   "outputs": [
    {
     "name": "stdout",
     "output_type": "stream",
     "text": [
      "Epoch 1/50\n",
      "1144/1144 - 2s - loss: 61.5307 - accuracy: 0.0096 - val_loss: 72.6808 - val_accuracy: 0.0107\n",
      "Epoch 2/50\n",
      "1144/1144 - 2s - loss: 61.0351 - accuracy: 0.0078 - val_loss: 78.3420 - val_accuracy: 0.0015\n",
      "Epoch 3/50\n",
      "1144/1144 - 2s - loss: 60.6561 - accuracy: 0.0063 - val_loss: 62.7093 - val_accuracy: 0.0119\n",
      "Epoch 4/50\n",
      "1144/1144 - 2s - loss: 60.2393 - accuracy: 0.0070 - val_loss: 67.6733 - val_accuracy: 0.0000e+00\n",
      "Epoch 5/50\n",
      "1144/1144 - 2s - loss: 60.0385 - accuracy: 0.0062 - val_loss: 71.9595 - val_accuracy: 0.0342\n",
      "Epoch 6/50\n",
      "1144/1144 - 2s - loss: 59.4540 - accuracy: 0.0098 - val_loss: 90.8670 - val_accuracy: 0.0102\n",
      "Epoch 7/50\n",
      "1144/1144 - 2s - loss: 58.6389 - accuracy: 0.0052 - val_loss: 62.0467 - val_accuracy: 7.6486e-04\n",
      "Epoch 8/50\n",
      "1144/1144 - 2s - loss: 59.4541 - accuracy: 0.0067 - val_loss: 63.2335 - val_accuracy: 0.0046\n",
      "Epoch 9/50\n",
      "1144/1144 - 2s - loss: 58.5541 - accuracy: 0.0057 - val_loss: 62.1928 - val_accuracy: 0.0000e+00\n",
      "Epoch 10/50\n",
      "1144/1144 - 2s - loss: 58.5388 - accuracy: 0.0066 - val_loss: 61.6712 - val_accuracy: 0.0026\n",
      "Epoch 11/50\n",
      "1144/1144 - 2s - loss: 58.6157 - accuracy: 0.0044 - val_loss: 62.6881 - val_accuracy: 0.0000e+00\n",
      "Epoch 12/50\n",
      "1144/1144 - 2s - loss: 58.0942 - accuracy: 0.0078 - val_loss: 67.6846 - val_accuracy: 0.0022\n",
      "Epoch 13/50\n",
      "1144/1144 - 2s - loss: 58.2899 - accuracy: 0.0056 - val_loss: 61.7214 - val_accuracy: 0.0104\n",
      "Epoch 14/50\n",
      "1144/1144 - 2s - loss: 58.3439 - accuracy: 0.0052 - val_loss: 64.4918 - val_accuracy: 0.0202\n",
      "Epoch 15/50\n",
      "1144/1144 - 2s - loss: 58.1063 - accuracy: 0.0072 - val_loss: 64.5510 - val_accuracy: 0.0000e+00\n",
      "Epoch 16/50\n",
      "1144/1144 - 2s - loss: 58.3212 - accuracy: 0.0054 - val_loss: 63.6887 - val_accuracy: 0.0036\n",
      "Epoch 17/50\n",
      "1144/1144 - 2s - loss: 57.6007 - accuracy: 0.0070 - val_loss: 63.6151 - val_accuracy: 0.0000e+00\n",
      "Epoch 18/50\n",
      "1144/1144 - 2s - loss: 57.8384 - accuracy: 0.0064 - val_loss: 61.8201 - val_accuracy: 0.0175\n",
      "Epoch 19/50\n",
      "1144/1144 - 2s - loss: 57.7803 - accuracy: 0.0065 - val_loss: 79.9223 - val_accuracy: 0.0062\n",
      "Epoch 20/50\n",
      "1144/1144 - 2s - loss: 57.5987 - accuracy: 0.0045 - val_loss: 61.9008 - val_accuracy: 0.0069\n",
      "Epoch 21/50\n",
      "1144/1144 - 2s - loss: 57.8269 - accuracy: 0.0058 - val_loss: 61.9418 - val_accuracy: 0.0129\n",
      "Epoch 22/50\n",
      "1144/1144 - 2s - loss: 57.7985 - accuracy: 0.0077 - val_loss: 63.0975 - val_accuracy: 0.0098\n",
      "Epoch 23/50\n",
      "1144/1144 - 2s - loss: 57.5849 - accuracy: 0.0077 - val_loss: 61.6462 - val_accuracy: 0.0063\n",
      "Epoch 24/50\n",
      "1144/1144 - 2s - loss: 57.3841 - accuracy: 0.0070 - val_loss: 61.9813 - val_accuracy: 0.0019\n",
      "Epoch 25/50\n",
      "1144/1144 - 2s - loss: 57.4274 - accuracy: 0.0070 - val_loss: 65.3677 - val_accuracy: 0.0093\n",
      "Epoch 26/50\n",
      "1144/1144 - 2s - loss: 57.5782 - accuracy: 0.0062 - val_loss: 63.2706 - val_accuracy: 0.0031\n",
      "Epoch 27/50\n",
      "1144/1144 - 2s - loss: 57.7428 - accuracy: 0.0070 - val_loss: 68.6304 - val_accuracy: 0.0000e+00\n",
      "Epoch 28/50\n",
      "1144/1144 - 2s - loss: 57.3485 - accuracy: 0.0066 - val_loss: 71.5811 - val_accuracy: 9.8339e-04\n",
      "Epoch 29/50\n",
      "1144/1144 - 2s - loss: 57.2658 - accuracy: 0.0043 - val_loss: 62.3087 - val_accuracy: 0.0033\n",
      "Epoch 30/50\n",
      "1144/1144 - 2s - loss: 57.6730 - accuracy: 0.0078 - val_loss: 63.4794 - val_accuracy: 0.0091\n",
      "Epoch 31/50\n",
      "1144/1144 - 2s - loss: 57.4980 - accuracy: 0.0097 - val_loss: 74.4039 - val_accuracy: 0.0135\n",
      "Epoch 32/50\n",
      "1144/1144 - 2s - loss: 57.4571 - accuracy: 0.0064 - val_loss: 62.2276 - val_accuracy: 0.0058\n",
      "Epoch 33/50\n",
      "1144/1144 - 2s - loss: 56.9148 - accuracy: 0.0048 - val_loss: 63.8852 - val_accuracy: 0.0000e+00\n",
      "Epoch 34/50\n",
      "1144/1144 - 2s - loss: 57.1385 - accuracy: 0.0038 - val_loss: 88.5223 - val_accuracy: 0.0063\n",
      "Epoch 35/50\n",
      "1144/1144 - 2s - loss: 57.0568 - accuracy: 0.0049 - val_loss: 61.9589 - val_accuracy: 0.0063\n",
      "Epoch 36/50\n",
      "1144/1144 - 2s - loss: 56.9614 - accuracy: 0.0044 - val_loss: 62.4652 - val_accuracy: 0.0036\n",
      "Epoch 37/50\n",
      "1144/1144 - 2s - loss: 57.2398 - accuracy: 0.0041 - val_loss: 62.4384 - val_accuracy: 0.0068\n",
      "Epoch 38/50\n",
      "1144/1144 - 2s - loss: 56.9139 - accuracy: 0.0073 - val_loss: 63.0529 - val_accuracy: 0.0044\n",
      "Epoch 39/50\n",
      "1144/1144 - 2s - loss: 57.2746 - accuracy: 0.0085 - val_loss: 64.6169 - val_accuracy: 7.6486e-04\n",
      "Epoch 40/50\n",
      "1144/1144 - 2s - loss: 57.1281 - accuracy: 0.0045 - val_loss: 61.8944 - val_accuracy: 0.0022\n",
      "Epoch 41/50\n",
      "1144/1144 - 2s - loss: 56.9952 - accuracy: 0.0039 - val_loss: 73.2614 - val_accuracy: 4.3706e-04\n",
      "Epoch 42/50\n",
      "1144/1144 - 2s - loss: 57.1867 - accuracy: 0.0030 - val_loss: 61.7389 - val_accuracy: 0.0000e+00\n",
      "Epoch 43/50\n",
      "1144/1144 - 2s - loss: 56.8993 - accuracy: 0.0064 - val_loss: 68.5060 - val_accuracy: 0.0253\n",
      "Epoch 44/50\n",
      "1144/1144 - 2s - loss: 57.0742 - accuracy: 0.0076 - val_loss: 67.5961 - val_accuracy: 8.7413e-04\n",
      "Epoch 45/50\n",
      "1144/1144 - 2s - loss: 57.0072 - accuracy: 0.0083 - val_loss: 63.3072 - val_accuracy: 0.0094\n",
      "Epoch 46/50\n",
      "1144/1144 - 2s - loss: 56.9876 - accuracy: 0.0025 - val_loss: 67.3686 - val_accuracy: 5.4633e-04\n",
      "Epoch 47/50\n",
      "1144/1144 - 2s - loss: 56.9697 - accuracy: 0.0028 - val_loss: 61.8663 - val_accuracy: 0.0012\n",
      "Epoch 48/50\n",
      "1144/1144 - 2s - loss: 56.8719 - accuracy: 0.0030 - val_loss: 61.5655 - val_accuracy: 0.0058\n",
      "Epoch 49/50\n",
      "1144/1144 - 2s - loss: 56.9729 - accuracy: 0.0048 - val_loss: 69.1599 - val_accuracy: 0.0085\n",
      "Epoch 50/50\n",
      "1144/1144 - 2s - loss: 56.6610 - accuracy: 0.0055 - val_loss: 62.2301 - val_accuracy: 0.0012\n"
     ]
    }
   ],
   "source": [
    "model.compile(loss = 'mse', optimizer = 'sgd', metrics=['accuracy'])\n",
    "fit_results = model.fit(x = input_data, y = output_data, epochs = 50, validation_split = 0.2, verbose = 2)"
   ]
  },
  {
   "cell_type": "code",
   "execution_count": 703,
   "id": "045ffac7-dc14-45a1-b9ab-937834cde234",
   "metadata": {},
   "outputs": [],
   "source": [
    "predicted_hour = np.array(data_frame_test['hour_key'])\n",
    "predicted = model.predict(predicted_hour)"
   ]
  },
  {
   "cell_type": "code",
   "execution_count": 705,
   "id": "2bdc1b42-01a7-4bfb-ae82-cba185ff75b2",
   "metadata": {},
   "outputs": [
    {
     "name": "stdout",
     "output_type": "stream",
     "text": [
      "[[17.252035 17.626497 17.026466 ... 17.662655 16.703537 16.808464]\n",
      " [16.89258  17.218517 16.691126 ... 17.2468   16.413708 16.50224 ]\n",
      " [16.532791 16.81116  16.355553 ... 16.831356 16.123764 16.196486]\n",
      " ...\n",
      " [13.840118 13.84689  13.881132 ... 13.824587 13.86621  13.904095]\n",
      " [13.793901 13.802228 13.831444 ... 13.773808 13.818815 13.860924]\n",
      " [13.754808 13.763199 13.791231 ... 13.735582 13.779829 13.819689]]\n",
      "[ 0  1  2  3  4  5  6  7  8  9 10 11 12 13 14 15 16 17 18 19 20 21 22 23]\n",
      "24\n",
      "24\n",
      "<class 'numpy.ndarray'>\n",
      "<class 'numpy.ndarray'>\n"
     ]
    }
   ],
   "source": [
    "print(predicted)\n",
    "print(predicted_hour)\n",
    "print(len(predicted))\n",
    "print(len(predicted_hour))\n",
    "print(type(predicted))\n",
    "print(type(predicted_hour))"
   ]
  },
  {
   "cell_type": "code",
   "execution_count": null,
   "id": "11cef17f-730c-4a93-8c37-9926a822e6b5",
   "metadata": {},
   "outputs": [],
   "source": [
    "#plt.scatter(predicted_hour, predicted)\n",
    "#plt.show()"
   ]
  },
  {
   "cell_type": "code",
   "execution_count": 706,
   "id": "406e03c7-2871-4d94-8e9f-df4a63f4ec44",
   "metadata": {},
   "outputs": [
    {
     "data": {
      "image/png": "[encoded data removed]",
      "text/plain": [
       "<Figure size 432x288 with 1 Axes>"
      ]
     },
     "metadata": {
      "needs_background": "light"
     },
     "output_type": "display_data"
    }
   ],
   "source": [
    "plt.title(\"Losses train / validation\")\n",
    "plt.plot(fit_results.history['loss'], label = 'Train')\n",
    "plt.plot(fit_results.history['val_loss'], label = 'Validation')\n",
    "plt.legend()\n",
    "plt.show()"
   ]
  },
  {
   "cell_type": "code",
   "execution_count": 707,
   "id": "6cd7191f-880f-4a8a-a619-84972012fd62",
   "metadata": {},
   "outputs": [
    {
     "data": {
      "image/png": "[encoded data removed]",
      "text/plain": [
       "<Figure size 432x288 with 1 Axes>"
      ]
     },
     "metadata": {
      "needs_background": "light"
     },
     "output_type": "display_data"
    }
   ],
   "source": [
    "plt.title(\"Accuracies train / validation\")\n",
    "plt.plot(fit_results.history['accuracy'], label = 'Train')\n",
    "plt.plot(fit_results.history['val_loss'], label = 'Validation')\n",
    "plt.legend()\n",
    "plt.show()"
   ]
  },
  {
   "cell_type": "code",
   "execution_count": null,
   "id": "399b11fe-789b-45a7-8fb3-7690307ad47a",
   "metadata": {},
   "outputs": [],
   "source": []
  },
  {
   "cell_type": "code",
   "execution_count": null,
   "id": "a77caf7d-e36a-48fb-8c69-4edd3c5c26c3",
   "metadata": {},
   "outputs": [],
   "source": []
  }
 ],
 "metadata": {
  "kernelspec": {
   "display_name": "Python 3 (ipykernel)",
   "language": "python",
   "name": "python3"
  },
  "language_info": {
   "codemirror_mode": {
    "name": "ipython",
    "version": 3
   },
   "file_extension": ".py",
   "mimetype": "text/x-python",
   "name": "python",
   "nbconvert_exporter": "python",
   "pygments_lexer": "ipython3",
   "version": "3.8.3"
  }
 },
 "nbformat": 4,
 "nbformat_minor": 5
}
