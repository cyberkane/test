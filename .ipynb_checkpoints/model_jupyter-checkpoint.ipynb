{
 "cells": [
  {
   "cell_type": "code",
   "execution_count": 1,
   "id": "d77a46b2-2629-4e9f-bca3-e061e3edfece",
   "metadata": {},
   "outputs": [],
   "source": [
    "import pandas as pd\n",
    "import tensorflow as tf\n",
    "import numpy as np\n",
    "import keras as k\n",
    "import matplotlib.pyplot as plt"
   ]
  },
  {
   "cell_type": "code",
   "execution_count": 2,
   "id": "91c403b6-0ca2-4449-8204-563ab1ca8ada",
   "metadata": {},
   "outputs": [],
   "source": [
    "file_name = 'taxi_formated.xlsx'"
   ]
  },
  {
   "cell_type": "code",
   "execution_count": 3,
   "id": "7f65bda6-892a-478f-b459-62915c62142d",
   "metadata": {},
   "outputs": [],
   "source": [
    "def testing_data():\n",
    "    data = pd.read_excel(file_name)\n",
    "    test_data = data.sample(frac = 0.3).reset_index(drop = True) # 30% исходных данных для подготовки тестового набора\n",
    "    data = pd.concat([data, test_data], ignore_index=True).drop_duplicates(keep = False).reset_index(drop = True) # оставшиеся данные идут для подготовки данных для обучения\n",
    "    return(data, test_data)"
   ]
  },
  {
   "cell_type": "code",
   "execution_count": 4,
   "id": "f2cf39ea-1abe-43f4-8815-e23a43deeeb8",
   "metadata": {},
   "outputs": [],
   "source": [
    "#запись наборов данных в отдельные файлы\n",
    "#learn_data, test_data = testing_data()\n",
    "#learn_data.to_excel('learn_data.xlsx')\n",
    "#test_data.to_excel('test_data.xlsx')"
   ]
  },
  {
   "cell_type": "code",
   "execution_count": 5,
   "id": "9c18899a-225b-4d56-af80-1aa080d374f7",
   "metadata": {},
   "outputs": [],
   "source": [
    "data_for_learning = 'learn_data.xlsx' #подготовленный файл learn_data.xlsx через prepairing_data.py\n",
    "data_for_testing = 'test_data.xlsx'   #подготовленный файл test_data.xlsx через prepairing_data.py"
   ]
  },
  {
   "cell_type": "code",
   "execution_count": 6,
   "id": "e8cae12f-c0c9-4de7-8e1d-457e3ad02024",
   "metadata": {},
   "outputs": [],
   "source": [
    "learn_data = pd.read_excel(data_for_learning) #обучающий датафрейм\n",
    "test_data = pd.read_excel(data_for_testing) #тестовый датафрейм"
   ]
  },
  {
   "cell_type": "code",
   "execution_count": 7,
   "id": "19efdb6a-a73b-4c66-9cb3-1dcec3e7af2e",
   "metadata": {},
   "outputs": [
    {
     "name": "stdout",
     "output_type": "stream",
     "text": [
      "       Unnamed: 0  offer_gk  weekday_key  hour_key  driver_gk  order_gk  \\\n",
      "0               0    759733            5        14       6080    358774   \n",
      "1               1    416977            6        14       6080    866260   \n",
      "2               2    889660            2         6       6080    163522   \n",
      "3               3   1120055            4        16       6080    506710   \n",
      "4               4   1058203            6        15       6080    360328   \n",
      "...           ...       ...          ...       ...        ...       ...   \n",
      "69995       69995   1021230            1         1       2442    351741   \n",
      "69996       69996    658641            5        21       2442     90022   \n",
      "69997       69997    726210            0         2       2442     27360   \n",
      "69998       69998    672584            6        21       2442    140623   \n",
      "69999       69999    542637            0        23       2442    140050   \n",
      "\n",
      "       driver_latitude  driver_longitude  origin_order_latitude  \\\n",
      "0            55.805342         37.515023              55.819329   \n",
      "1            55.813978         37.347688              55.814827   \n",
      "2            55.745922         37.421748              55.743469   \n",
      "3            55.803578         37.521602              55.812559   \n",
      "4            55.818963         37.361033              55.814827   \n",
      "...                ...               ...                    ...   \n",
      "69995        55.961301         37.413497              55.966694   \n",
      "69996        55.961321         37.413560              55.964892   \n",
      "69997        55.961246         37.413497              55.966694   \n",
      "69998        55.961354         37.413864              55.964892   \n",
      "69999        55.961364         37.413864              55.962322   \n",
      "\n",
      "       origin_order_longitude  distance_km  duration_min offer_class_group  \\\n",
      "0                   37.466398       18.802        25.217          Standard   \n",
      "1                   37.354074        6.747         9.800           Economy   \n",
      "2                   37.431130       -1.000        -1.000           Economy   \n",
      "3                   37.527407       12.383        19.250           Economy   \n",
      "4                   37.354074        6.747         9.800           Economy   \n",
      "...                       ...          ...           ...               ...   \n",
      "69995               37.415754        0.000         0.000          Standard   \n",
      "69996               37.413543       32.721        39.017          Standard   \n",
      "69997               37.415754       17.378        29.817           Economy   \n",
      "69998               37.413543       50.029        51.100           Economy   \n",
      "69999               37.407117       54.811        56.183          Standard   \n",
      "\n",
      "      ride_type_desc  driver_response  \n",
      "0            private                1  \n",
      "1            private                0  \n",
      "2            private                1  \n",
      "3            private                1  \n",
      "4            private                0  \n",
      "...              ...              ...  \n",
      "69995        private                0  \n",
      "69996        private                0  \n",
      "69997        private                0  \n",
      "69998        private                0  \n",
      "69999        private                0  \n",
      "\n",
      "[70000 rows x 15 columns]\n"
     ]
    }
   ],
   "source": [
    "data_frame = learn_data\n",
    "data_frame_test = test_data\n",
    "print(data_frame)"
   ]
  },
  {
   "cell_type": "code",
   "execution_count": 8,
   "id": "9685c8b5-7f39-4409-860e-000b1a6fbffc",
   "metadata": {},
   "outputs": [
    {
     "name": "stdout",
     "output_type": "stream",
     "text": [
      "31.66095531300284\n"
     ]
    }
   ],
   "source": [
    "duration_rms = np.sqrt((np.sum(np.array(data_frame[['duration_min']][(data_frame['duration_min'] > 0)])) / len(np.array(data_frame[['duration_min']][(data_frame['duration_min'] > 0)]))) ** 2 )\n",
    "print(duration_rms)"
   ]
  },
  {
   "cell_type": "code",
   "execution_count": 809,
   "id": "8da47eee-ecea-48f2-a439-67f44e801573",
   "metadata": {},
   "outputs": [],
   "source": [
    "data_frame1 = data_frame[['weekday_key', 'hour_key', 'duration_min']][(data_frame['duration_min'] > duration_rms / 4) & (data_frame['duration_min'] < duration_rms * 4)]\n",
    "\n",
    "row1 = np.array(data_frame1['hour_key'], dtype = float)\n",
    "row2 = np.array(data_frame1['duration_min'], dtype = float)\n",
    "row3 = data_frame1.sort_values(['hour_key'])\n",
    "row3 = row3['hour_key'].unique()\n",
    "row4 = []\n",
    "\n",
    "for i in range (len(row3)):\n",
    "    sqnum = np.sqrt(np.sum(data_frame1['duration_min'][(data_frame1['hour_key'] == i)]) / len(row3))\n",
    "    row4.append(sqnum)\n",
    "    \n",
    "row4 = np.array(row4, dtype = float) #список среднеквадратичных значений проделжительности поездки от времени суток"
   ]
  },
  {
   "cell_type": "code",
   "execution_count": 810,
   "id": "bbb23bf9-4ca1-43dd-b6ce-603c47f2c177",
   "metadata": {},
   "outputs": [],
   "source": [
    "data_frame2 = data_frame[['weekday_key', 'hour_key', 'duration_min']][(data_frame['duration_min'] > 0)]\n",
    "duration_sigma_sqr = data_frame2[['duration_min']][(data_frame2['duration_min'] > 0)]\n",
    "duration_sigma_sqr = np.sqrt(((duration_sigma_sqr['duration_min'] - duration_rms) ** 2) / (len(duration_sigma_sqr) - 1))\n",
    "row_duration_sigma_sqr = np.array(duration_sigma_sqr, dtype = float)"
   ]
  },
  {
   "cell_type": "code",
   "execution_count": 811,
   "id": "e0682c48-d1da-4f89-9f20-543378e7d075",
   "metadata": {},
   "outputs": [],
   "source": [
    "row5 = data_frame2.sort_values(['hour_key'])\n",
    "row5 = np.array(data_frame2['hour_key'], dtype = float)\n",
    "row5 = data_frame2.sort_values(['hour_key'])\n",
    "row5 = row5['hour_key'].unique()\n",
    "row6 = []\n",
    "\n",
    "for i in range (len(row5)):\n",
    "    sqnum = np.sqrt(np.sum(row_duration_sigma_sqr) / len(row5))\n",
    "    row6.append(sqnum)\n",
    "\n",
    "row6 = np.array(row4, dtype = float) #список статистической дисперсии продолжительности поездки от времени суток"
   ]
  },
  {
   "cell_type": "code",
   "execution_count": 812,
   "id": "3b820d7d-ec0c-4636-aca3-a82328ae605b",
   "metadata": {},
   "outputs": [
    {
     "data": {
      "image/png": "[encoded data removed]",
      "text/plain": [
       "<Figure size 432x288 with 1 Axes>"
      ]
     },
     "metadata": {
      "needs_background": "light"
     },
     "output_type": "display_data"
    }
   ],
   "source": [
    "plt.plot (row5, row6 , '.', color = 'yellow')\n",
    "plt.scatter(row1, row2)\n",
    "plt.plot (row3, row4 , '--', color = 'red')\n",
    "plt.show()"
   ]
  },
  {
   "cell_type": "code",
   "execution_count": 512,
   "id": "5cabeba0-4804-40e5-824a-fc818ca19d7e",
   "metadata": {},
   "outputs": [],
   "source": [
    "input_data = np.array(data_frame['duration_min'][(data_frame['duration_min'] > 0) & (data_frame['duration_min'] > duration_rms / 3) & (data_frame['duration_min'] < duration_rms * 3)])\n",
    "output_data = np.array(data_frame['hour_key'][(data_frame['duration_min'] > 0) & (data_frame['duration_min'] > duration_rms / 3) & (data_frame['duration_min'] < duration_rms * 3)])"
   ]
  },
  {
   "cell_type": "code",
   "execution_count": 513,
   "id": "b58d33c3-c7a7-4ab5-bce5-63e24bc72b0c",
   "metadata": {},
   "outputs": [
    {
     "name": "stdout",
     "output_type": "stream",
     "text": [
      "[25.217 19.25  15.433 ... 29.817 51.1   56.183]\n",
      "[14 16 20 ...  2 21 23]\n",
      "45760\n",
      "45760\n"
     ]
    }
   ],
   "source": [
    "print(input_data)\n",
    "print(output_data)\n",
    "print(len(input_data))\n",
    "print(len(output_data))"
   ]
  },
  {
   "cell_type": "code",
   "execution_count": 514,
   "id": "cc03914f-6878-444e-bad2-b29559fe7124",
   "metadata": {},
   "outputs": [
    {
     "data": {
      "image/png": "[encoded data removed]",
      "text/plain": [
       "<Figure size 432x288 with 1 Axes>"
      ]
     },
     "metadata": {
      "needs_background": "light"
     },
     "output_type": "display_data"
    }
   ],
   "source": [
    "plt.scatter(output_data, input_data)\n",
    "plt.show()"
   ]
  },
  {
   "cell_type": "code",
   "execution_count": 796,
   "id": "b36d5d15-8fb8-45bb-917f-37f105225b24",
   "metadata": {},
   "outputs": [],
   "source": [
    "model = k.Sequential()\n",
    "model.add(k.layers.Dense(units = 900, activation = 'softmax'))\n",
    "model.add(k.layers.Dense(units = 10, activation = 'relu'))\n",
    "model.add(k.layers.Dense(units = 10, activation = 'sigmoid'))\n",
    "model.add(k.layers.Dense(units = 1, activation = 'relu'))"
   ]
  },
  {
   "cell_type": "code",
   "execution_count": 797,
   "id": "d1171f0b-1967-42ff-b73d-d6d3bf0ebac9",
   "metadata": {},
   "outputs": [
    {
     "name": "stdout",
     "output_type": "stream",
     "text": [
      "Epoch 1/10\n",
      "1144/1144 - 3s - loss: 56.2737 - accuracy: 0.0353 - val_loss: 62.7632 - val_accuracy: 0.0471\n",
      "Epoch 2/10\n",
      "1144/1144 - 2s - loss: 55.3012 - accuracy: 0.0353 - val_loss: 62.6500 - val_accuracy: 0.0471\n",
      "Epoch 3/10\n",
      "1144/1144 - 2s - loss: 55.2205 - accuracy: 0.0353 - val_loss: 61.8829 - val_accuracy: 0.0471\n",
      "Epoch 4/10\n",
      "1144/1144 - 2s - loss: 55.2130 - accuracy: 0.0353 - val_loss: 61.6412 - val_accuracy: 0.0471\n",
      "Epoch 5/10\n",
      "1144/1144 - 2s - loss: 55.1987 - accuracy: 0.0353 - val_loss: 61.7397 - val_accuracy: 0.0471\n",
      "Epoch 6/10\n",
      "1144/1144 - 2s - loss: 55.1710 - accuracy: 0.0353 - val_loss: 63.4390 - val_accuracy: 0.0471\n",
      "Epoch 7/10\n",
      "1144/1144 - 2s - loss: 55.1853 - accuracy: 0.0353 - val_loss: 61.6356 - val_accuracy: 0.0471\n",
      "Epoch 8/10\n",
      "1144/1144 - 2s - loss: 55.2125 - accuracy: 0.0353 - val_loss: 61.7378 - val_accuracy: 0.0471\n",
      "Epoch 9/10\n",
      "1144/1144 - 2s - loss: 55.2371 - accuracy: 0.0353 - val_loss: 63.3888 - val_accuracy: 0.0471\n",
      "Epoch 10/10\n",
      "1144/1144 - 2s - loss: 55.2835 - accuracy: 0.0353 - val_loss: 61.6879 - val_accuracy: 0.0471\n"
     ]
    }
   ],
   "source": [
    "model.compile(loss = 'mse', optimizer = 'sgd', metrics=['accuracy'])\n",
    "fit_results = model.fit(x = input_data, y = output_data, epochs = 10, validation_split = 0.2, verbose = 2)"
   ]
  },
  {
   "cell_type": "code",
   "execution_count": 798,
   "id": "045ffac7-dc14-45a1-b9ab-937834cde234",
   "metadata": {},
   "outputs": [],
   "source": [
    "predicted_hour = np.array(data_frame_test['hour_key'])\n",
    "predicted = model.predict(predicted_hour)"
   ]
  },
  {
   "cell_type": "code",
   "execution_count": 799,
   "id": "2bdc1b42-01a7-4bfb-ae82-cba185ff75b2",
   "metadata": {},
   "outputs": [
    {
     "name": "stdout",
     "output_type": "stream",
     "text": [
      "[[13.917205]\n",
      " [13.923447]\n",
      " [13.903134]\n",
      " ...\n",
      " [13.919354]\n",
      " [13.912627]\n",
      " [13.915877]]\n",
      "[16  2 23 ... 14 19 17]\n",
      "30000\n",
      "30000\n",
      "<class 'numpy.ndarray'>\n",
      "<class 'numpy.ndarray'>\n"
     ]
    }
   ],
   "source": [
    "print(predicted)\n",
    "print(predicted_hour)\n",
    "print(len(predicted))\n",
    "print(len(predicted_hour))\n",
    "print(type(predicted))\n",
    "print(type(predicted_hour))"
   ]
  },
  {
   "cell_type": "code",
   "execution_count": 800,
   "id": "11cef17f-730c-4a93-8c37-9926a822e6b5",
   "metadata": {},
   "outputs": [
    {
     "data": {
      "image/png": "[encoded data removed]",
      "text/plain": [
       "<Figure size 432x288 with 1 Axes>"
      ]
     },
     "metadata": {
      "needs_background": "light"
     },
     "output_type": "display_data"
    }
   ],
   "source": [
    "plt.scatter(predicted_hour, predicted)\n",
    "plt.show()"
   ]
  },
  {
   "cell_type": "code",
   "execution_count": 801,
   "id": "406e03c7-2871-4d94-8e9f-df4a63f4ec44",
   "metadata": {},
   "outputs": [
    {
     "data": {
      "image/png": "[encoded data removed]",
      "text/plain": [
       "<Figure size 432x288 with 1 Axes>"
      ]
     },
     "metadata": {
      "needs_background": "light"
     },
     "output_type": "display_data"
    }
   ],
   "source": [
    "plt.title(\"Losses train / validation\")\n",
    "plt.plot(fit_results.history['loss'], label = 'Train')\n",
    "plt.plot(fit_results.history['val_loss'], label = 'Validation')\n",
    "plt.legend()\n",
    "plt.show()"
   ]
  },
  {
   "cell_type": "code",
   "execution_count": 802,
   "id": "6cd7191f-880f-4a8a-a619-84972012fd62",
   "metadata": {},
   "outputs": [
    {
     "data": {
      "image/png": "[encoded data removed]",
      "text/plain": [
       "<Figure size 432x288 with 1 Axes>"
      ]
     },
     "metadata": {
      "needs_background": "light"
     },
     "output_type": "display_data"
    }
   ],
   "source": [
    "plt.title(\"Accuracies train / validation\")\n",
    "plt.plot(fit_results.history['accuracy'], label = 'Train')\n",
    "plt.plot(fit_results.history['val_loss'], label = 'Validation')\n",
    "plt.legend()\n",
    "plt.show()"
   ]
  },
  {
   "cell_type": "code",
   "execution_count": null,
   "id": "399b11fe-789b-45a7-8fb3-7690307ad47a",
   "metadata": {},
   "outputs": [],
   "source": []
  },
  {
   "cell_type": "code",
   "execution_count": null,
   "id": "a77caf7d-e36a-48fb-8c69-4edd3c5c26c3",
   "metadata": {},
   "outputs": [],
   "source": []
  }
 ],
 "metadata": {
  "kernelspec": {
   "display_name": "Python 3 (ipykernel)",
   "language": "python",
   "name": "python3"
  },
  "language_info": {
   "codemirror_mode": {
    "name": "ipython",
    "version": 3
   },
   "file_extension": ".py",
   "mimetype": "text/x-python",
   "name": "python",
   "nbconvert_exporter": "python",
   "pygments_lexer": "ipython3",
   "version": "3.8.3"
  }
 },
 "nbformat": 4,
 "nbformat_minor": 5
}
